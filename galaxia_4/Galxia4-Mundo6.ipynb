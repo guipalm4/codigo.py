{
 "cells": [
  {
   "cell_type": "markdown",
   "id": "76280d9d",
   "metadata": {},
   "source": [
    "# Mundo 6\n",
    "\n",
    "### Introdução ao Pandas"
   ]
  },
  {
   "cell_type": "code",
   "execution_count": 1,
   "id": "7248e396",
   "metadata": {},
   "outputs": [],
   "source": [
    "import pandas as pd\n",
    "import numpy as np"
   ]
  },
  {
   "cell_type": "code",
   "execution_count": 4,
   "id": "265a8ff6",
   "metadata": {},
   "outputs": [],
   "source": [
    "def gerador_serie_historica(valor_inicial, volatilidade, periodos, dia_inicial, frequencia = \"ME\"):\n",
    "    \n",
    "    vetor = [valor_inicial]\n",
    "\n",
    "    for i in range(periodos - 1):\n",
    "\n",
    "            preco = vetor[i] * (1 + np.random.normal(0, volatilidade))\n",
    "\n",
    "            vetor.append(preco)\n",
    "\n",
    "\n",
    "    serie = pd.Series(vetor, index = pd.date_range(dia_inicial, \n",
    "                                                   periods = periodos, freq = frequencia)) \n",
    "                               \n",
    "    return serie\n",
    "    \n",
    "    "
   ]
  },
  {
   "cell_type": "code",
   "execution_count": 5,
   "id": "4b781fda",
   "metadata": {
    "scrolled": true
   },
   "outputs": [
    {
     "data": {
      "text/plain": [
       "2022-01-31    20.000000\n",
       "2022-02-28    19.463675\n",
       "2022-03-31    18.428085\n",
       "2022-04-30    19.585501\n",
       "2022-05-31    20.467743\n",
       "Freq: ME, dtype: float64"
      ]
     },
     "execution_count": 5,
     "metadata": {},
     "output_type": "execute_result"
    }
   ],
   "source": [
    "serie_euro = gerador_serie_historica(5, 0.01, 5, \"2022-01-01\")\n",
    "serie_cotacoes = gerador_serie_historica(20, 0.05, 5, \"2022-01-01\")\n",
    "serie_cotacoes"
   ]
  },
  {
   "cell_type": "code",
   "execution_count": 6,
   "id": "bbd44525",
   "metadata": {},
   "outputs": [
    {
     "data": {
      "text/plain": [
       "2022-01-31    5.000000\n",
       "2022-02-28    4.992869\n",
       "2022-03-31    5.058072\n",
       "2022-04-30    5.109667\n",
       "2022-05-31    5.163052\n",
       "Freq: ME, dtype: float64"
      ]
     },
     "execution_count": 6,
     "metadata": {},
     "output_type": "execute_result"
    }
   ],
   "source": [
    "serie_euro"
   ]
  },
  {
   "cell_type": "code",
   "execution_count": 7,
   "id": "2fff8be0",
   "metadata": {},
   "outputs": [
    {
     "data": {
      "text/plain": [
       "2022-01-31    4.000000\n",
       "2022-02-28    3.898295\n",
       "2022-03-31    3.643302\n",
       "2022-04-30    3.833029\n",
       "2022-05-31    3.964272\n",
       "Freq: ME, dtype: float64"
      ]
     },
     "execution_count": 7,
     "metadata": {},
     "output_type": "execute_result"
    }
   ],
   "source": [
    "#as operações aritméticas são feitas através dos índices! \n",
    "\n",
    "serie_cotacoes_em_euro = serie_cotacoes/serie_euro\n",
    "serie_cotacoes_em_euro"
   ]
  },
  {
   "cell_type": "code",
   "execution_count": 8,
   "id": "08aace19",
   "metadata": {},
   "outputs": [
    {
     "data": {
      "text/html": [
       "<div>\n",
       "<style scoped>\n",
       "    .dataframe tbody tr th:only-of-type {\n",
       "        vertical-align: middle;\n",
       "    }\n",
       "\n",
       "    .dataframe tbody tr th {\n",
       "        vertical-align: top;\n",
       "    }\n",
       "\n",
       "    .dataframe thead th {\n",
       "        text-align: right;\n",
       "    }\n",
       "</style>\n",
       "<table border=\"1\" class=\"dataframe\">\n",
       "  <thead>\n",
       "    <tr style=\"text-align: right;\">\n",
       "      <th></th>\n",
       "      <th>cotacao</th>\n",
       "      <th>lucro_por_acao</th>\n",
       "    </tr>\n",
       "  </thead>\n",
       "  <tbody>\n",
       "    <tr>\n",
       "      <th>2022-01-31</th>\n",
       "      <td>20.000000</td>\n",
       "      <td>2.000000</td>\n",
       "    </tr>\n",
       "    <tr>\n",
       "      <th>2022-02-28</th>\n",
       "      <td>19.857978</td>\n",
       "      <td>0.833487</td>\n",
       "    </tr>\n",
       "    <tr>\n",
       "      <th>2022-03-31</th>\n",
       "      <td>19.997185</td>\n",
       "      <td>1.651499</td>\n",
       "    </tr>\n",
       "    <tr>\n",
       "      <th>2022-04-30</th>\n",
       "      <td>20.417772</td>\n",
       "      <td>0.649963</td>\n",
       "    </tr>\n",
       "    <tr>\n",
       "      <th>2022-05-31</th>\n",
       "      <td>21.657677</td>\n",
       "      <td>0.687780</td>\n",
       "    </tr>\n",
       "  </tbody>\n",
       "</table>\n",
       "</div>"
      ],
      "text/plain": [
       "              cotacao  lucro_por_acao\n",
       "2022-01-31  20.000000        2.000000\n",
       "2022-02-28  19.857978        0.833487\n",
       "2022-03-31  19.997185        1.651499\n",
       "2022-04-30  20.417772        0.649963\n",
       "2022-05-31  21.657677        0.687780"
      ]
     },
     "execution_count": 8,
     "metadata": {},
     "output_type": "execute_result"
    }
   ],
   "source": [
    "serie_lucro = gerador_serie_historica(2, 0.5, 5, \"2022-01-01\")\n",
    "serie_cotacoes = gerador_serie_historica(20, 0.05, 5, \"2022-01-01\")\n",
    "\n",
    "\n",
    "df = pd.DataFrame({\"cotacao\": serie_cotacoes,\n",
    "                 \"lucro_por_acao\": serie_lucro})\n",
    "\n",
    "df"
   ]
  },
  {
   "cell_type": "code",
   "execution_count": 9,
   "id": "fae71440",
   "metadata": {},
   "outputs": [
    {
     "data": {
      "text/html": [
       "<div>\n",
       "<style scoped>\n",
       "    .dataframe tbody tr th:only-of-type {\n",
       "        vertical-align: middle;\n",
       "    }\n",
       "\n",
       "    .dataframe tbody tr th {\n",
       "        vertical-align: top;\n",
       "    }\n",
       "\n",
       "    .dataframe thead th {\n",
       "        text-align: right;\n",
       "    }\n",
       "</style>\n",
       "<table border=\"1\" class=\"dataframe\">\n",
       "  <thead>\n",
       "    <tr style=\"text-align: right;\">\n",
       "      <th></th>\n",
       "      <th>cotacao</th>\n",
       "      <th>lucro_por_acao</th>\n",
       "      <th>PL</th>\n",
       "    </tr>\n",
       "  </thead>\n",
       "  <tbody>\n",
       "    <tr>\n",
       "      <th>2022-01-31</th>\n",
       "      <td>20.000000</td>\n",
       "      <td>2.000000</td>\n",
       "      <td>10.000000</td>\n",
       "    </tr>\n",
       "    <tr>\n",
       "      <th>2022-02-28</th>\n",
       "      <td>19.857978</td>\n",
       "      <td>0.833487</td>\n",
       "      <td>23.825193</td>\n",
       "    </tr>\n",
       "    <tr>\n",
       "      <th>2022-03-31</th>\n",
       "      <td>19.997185</td>\n",
       "      <td>1.651499</td>\n",
       "      <td>12.108504</td>\n",
       "    </tr>\n",
       "    <tr>\n",
       "      <th>2022-04-30</th>\n",
       "      <td>20.417772</td>\n",
       "      <td>0.649963</td>\n",
       "      <td>31.413755</td>\n",
       "    </tr>\n",
       "    <tr>\n",
       "      <th>2022-05-31</th>\n",
       "      <td>21.657677</td>\n",
       "      <td>0.687780</td>\n",
       "      <td>31.489254</td>\n",
       "    </tr>\n",
       "  </tbody>\n",
       "</table>\n",
       "</div>"
      ],
      "text/plain": [
       "              cotacao  lucro_por_acao         PL\n",
       "2022-01-31  20.000000        2.000000  10.000000\n",
       "2022-02-28  19.857978        0.833487  23.825193\n",
       "2022-03-31  19.997185        1.651499  12.108504\n",
       "2022-04-30  20.417772        0.649963  31.413755\n",
       "2022-05-31  21.657677        0.687780  31.489254"
      ]
     },
     "execution_count": 9,
     "metadata": {},
     "output_type": "execute_result"
    }
   ],
   "source": [
    "#criando coluna P/L\n",
    "\n",
    "df['PL'] = df['cotacao']/df['lucro_por_acao']\n",
    "\n",
    "df"
   ]
  },
  {
   "cell_type": "code",
   "execution_count": 14,
   "id": "04c71e80",
   "metadata": {},
   "outputs": [
    {
     "name": "stdout",
     "output_type": "stream",
     "text": [
      "2022-01-31    22.000000\n",
      "2022-02-28    21.504171\n",
      "2022-03-31    21.811165\n",
      "2022-04-30    20.645097\n",
      "2022-05-31    20.878849\n",
      "Freq: M, dtype: float64\n",
      "2022-01-31    18.000000\n",
      "2022-02-28    17.246493\n",
      "2022-03-31    15.660576\n",
      "2022-04-30    16.462362\n",
      "2022-05-31    18.144088\n",
      "Freq: M, dtype: float64\n",
      "2022-01-31     400.000000\n",
      "2022-02-28     549.979773\n",
      "2022-03-31    8200.627610\n",
      "2022-04-30     449.527456\n",
      "2022-05-31      58.118904\n",
      "Freq: M, dtype: float64\n"
     ]
    }
   ],
   "source": [
    "#pode fazer qualquer operação \n",
    "\n",
    "print(df['cotacao'] + df['lucro_por_acao'])\n",
    "print(df['cotacao'] - df['lucro_por_acao'])\n",
    "print(df['cotacao'] ** df['lucro_por_acao'])"
   ]
  },
  {
   "cell_type": "code",
   "execution_count": 12,
   "id": "86208892",
   "metadata": {},
   "outputs": [
    {
     "name": "stdout",
     "output_type": "stream",
     "text": [
      "2022-03-31    2.000000e+04\n",
      "2022-06-30    1.035321e+05\n",
      "2022-09-30   -4.322084e+05\n",
      "2022-12-31   -1.277966e+06\n",
      "Freq: QE-DEC, dtype: float64\n"
     ]
    },
    {
     "data": {
      "text/plain": [
       "np.float64(-1586642.480252769)"
      ]
     },
     "execution_count": 12,
     "metadata": {},
     "output_type": "execute_result"
    }
   ],
   "source": [
    "#operações dentro de uma mesma coluna\n",
    "\n",
    "#somar dados de uma coluna\n",
    "\n",
    "serie_lucro_trimestral = gerador_serie_historica(20000, 2, 4, \"2022-01-01\", frequencia = \"QE\")\n",
    "\n",
    "print(serie_lucro_trimestral)\n",
    "\n",
    "lucro_anual = serie_lucro_trimestral.sum()\n",
    "lucro_anual"
   ]
  },
  {
   "cell_type": "code",
   "execution_count": 14,
   "id": "39e72bf8",
   "metadata": {},
   "outputs": [
    {
     "name": "stdout",
     "output_type": "stream",
     "text": [
      "2022-03-31    20000.000000\n",
      "2022-06-30     4124.358173\n",
      "2022-09-30    -1983.446659\n",
      "2022-12-31    -1809.645985\n",
      "Freq: QE-DEC, dtype: float64\n"
     ]
    },
    {
     "data": {
      "text/plain": [
       "2022-03-31    20000.000000\n",
       "2022-06-30    24124.358173\n",
       "2022-09-30    22140.911514\n",
       "2022-12-31    20331.265529\n",
       "Freq: QE-DEC, dtype: float64"
      ]
     },
     "execution_count": 14,
     "metadata": {},
     "output_type": "execute_result"
    }
   ],
   "source": [
    "#acumular dados de uma coluna\n",
    "\n",
    "serie_lucro_trimestral = gerador_serie_historica(20000, 2, 4, \"2022-01-01\", frequencia = \"QE\")\n",
    "\n",
    "print(serie_lucro_trimestral)\n",
    "\n",
    "crescimento_lucros  = serie_lucro_trimestral.cumsum()\n",
    "\n",
    "crescimento_lucros"
   ]
  },
  {
   "cell_type": "code",
   "execution_count": null,
   "id": "573a6bf6",
   "metadata": {},
   "outputs": [],
   "source": [
    "#maior e menor dado de lucro no trimestre"
   ]
  },
  {
   "cell_type": "code",
   "execution_count": 16,
   "id": "2147d92c",
   "metadata": {},
   "outputs": [
    {
     "name": "stdout",
     "output_type": "stream",
     "text": [
      "2022-03-31    20000.000000\n",
      "2022-06-30   -26518.308364\n",
      "2022-09-30    56105.319828\n",
      "2022-12-31    97429.469429\n",
      "Freq: QE-DEC, dtype: float64\n",
      "-26518.30836443307\n"
     ]
    },
    {
     "data": {
      "text/plain": [
       "np.float64(97429.46942861451)"
      ]
     },
     "execution_count": 16,
     "metadata": {},
     "output_type": "execute_result"
    }
   ],
   "source": [
    "serie_lucro_trimestral = gerador_serie_historica(20000, 2, 4, \"2022-01-01\", frequencia = \"QE\")\n",
    "\n",
    "print(serie_lucro_trimestral)\n",
    "\n",
    "lucro_max = serie_lucro_trimestral.max()\n",
    "lucro_min = serie_lucro_trimestral.min()\n",
    "\n",
    "print(lucro_min)\n",
    "lucro_max"
   ]
  },
  {
   "cell_type": "markdown",
   "id": "21e3586e",
   "metadata": {},
   "source": [
    "# Exercícios \n",
    "\n",
    "No dataframe base trabalhado em todas as aulas:\n",
    "\n",
    "* Exercício 50: Crie uma nova coluna chamada \"lucro_por_acao\" e calcule o lucro por ação baseado nas informações de PL e preço. Obs: LPA = P/Indicador(PL)\n",
    "* Exercício 51: Assuma a cotação do dólar como 5.25 e crie a coluna de cotações dolarizadas na tabela.\n",
    "* Exercício 52: Encontre qual volume total negociado por todas as ações. \n",
    "* Exercício 53: Selecione as ações com maior e menor Lucro por ação do dataframe. Dica: use métodos de seleção ensinados na aula passada! \n"
   ]
  },
  {
   "cell_type": "code",
   "execution_count": 18,
   "id": "f27b73fb",
   "metadata": {},
   "outputs": [],
   "source": [
    "dicionario = {\n",
    "       \"nomes\": [\"Weg\", \"Petrobras\", \"Vale\", \"Petrobras\", \"Lojas Renner\"],\n",
    "       \"tickers\": [\"WEGE3\", \"PETR3\", \"VALE3\", \"PETR4\", \"LREN3\"],  \n",
    "       \"cotacoes\": [20, 30, 40, 12, 35],\n",
    "       \"preco_sobre_lucro\": [25, 6, 12, 7, 25],  \n",
    "       \"volume\": [5000, 1000, 4000, 7000, 1200]\n",
    "}\n",
    "\n",
    "df_info_empresas = pd.DataFrame(dicionario)\n",
    "\n",
    "df_info_empresas = df_info_empresas.set_index(\"tickers\")\n",
    "\n",
    "df_info_empresas.columns = ['nomes', 'precos', 'preco_sobre_lucro', 'volume']"
   ]
  },
  {
   "cell_type": "code",
   "execution_count": 21,
   "id": "7523c91b",
   "metadata": {},
   "outputs": [
    {
     "data": {
      "text/html": [
       "<div>\n",
       "<style scoped>\n",
       "    .dataframe tbody tr th:only-of-type {\n",
       "        vertical-align: middle;\n",
       "    }\n",
       "\n",
       "    .dataframe tbody tr th {\n",
       "        vertical-align: top;\n",
       "    }\n",
       "\n",
       "    .dataframe thead th {\n",
       "        text-align: right;\n",
       "    }\n",
       "</style>\n",
       "<table border=\"1\" class=\"dataframe\">\n",
       "  <thead>\n",
       "    <tr style=\"text-align: right;\">\n",
       "      <th></th>\n",
       "      <th>nomes</th>\n",
       "      <th>precos</th>\n",
       "      <th>preco_sobre_lucro</th>\n",
       "      <th>volume</th>\n",
       "      <th>lucro_por_acao</th>\n",
       "    </tr>\n",
       "    <tr>\n",
       "      <th>tickers</th>\n",
       "      <th></th>\n",
       "      <th></th>\n",
       "      <th></th>\n",
       "      <th></th>\n",
       "      <th></th>\n",
       "    </tr>\n",
       "  </thead>\n",
       "  <tbody>\n",
       "    <tr>\n",
       "      <th>WEGE3</th>\n",
       "      <td>Weg</td>\n",
       "      <td>20</td>\n",
       "      <td>25</td>\n",
       "      <td>5000</td>\n",
       "      <td>0.800000</td>\n",
       "    </tr>\n",
       "    <tr>\n",
       "      <th>PETR3</th>\n",
       "      <td>Petrobras</td>\n",
       "      <td>30</td>\n",
       "      <td>6</td>\n",
       "      <td>1000</td>\n",
       "      <td>5.000000</td>\n",
       "    </tr>\n",
       "    <tr>\n",
       "      <th>VALE3</th>\n",
       "      <td>Vale</td>\n",
       "      <td>40</td>\n",
       "      <td>12</td>\n",
       "      <td>4000</td>\n",
       "      <td>3.333333</td>\n",
       "    </tr>\n",
       "    <tr>\n",
       "      <th>PETR4</th>\n",
       "      <td>Petrobras</td>\n",
       "      <td>12</td>\n",
       "      <td>7</td>\n",
       "      <td>7000</td>\n",
       "      <td>1.714286</td>\n",
       "    </tr>\n",
       "    <tr>\n",
       "      <th>LREN3</th>\n",
       "      <td>Lojas Renner</td>\n",
       "      <td>35</td>\n",
       "      <td>25</td>\n",
       "      <td>1200</td>\n",
       "      <td>1.400000</td>\n",
       "    </tr>\n",
       "  </tbody>\n",
       "</table>\n",
       "</div>"
      ],
      "text/plain": [
       "                nomes  precos  preco_sobre_lucro  volume  lucro_por_acao\n",
       "tickers                                                                 \n",
       "WEGE3             Weg      20                 25    5000        0.800000\n",
       "PETR3       Petrobras      30                  6    1000        5.000000\n",
       "VALE3            Vale      40                 12    4000        3.333333\n",
       "PETR4       Petrobras      12                  7    7000        1.714286\n",
       "LREN3    Lojas Renner      35                 25    1200        1.400000"
      ]
     },
     "execution_count": 21,
     "metadata": {},
     "output_type": "execute_result"
    }
   ],
   "source": [
    "# Exercício 50: Crie uma nova coluna chamada \"lucro_por_acao\" \n",
    "# e calcule o lucro por ação baseado nas informações de PL e preço. \n",
    "# Obs: LPA = P/Indicador(PL)\n",
    "df_info_empresas['lucro_por_acao'] = df_info_empresas['precos']/df_info_empresas['preco_sobre_lucro']\n",
    "df_info_empresas\n"
   ]
  },
  {
   "cell_type": "code",
   "execution_count": 27,
   "id": "50a005be",
   "metadata": {},
   "outputs": [
    {
     "data": {
      "text/html": [
       "<div>\n",
       "<style scoped>\n",
       "    .dataframe tbody tr th:only-of-type {\n",
       "        vertical-align: middle;\n",
       "    }\n",
       "\n",
       "    .dataframe tbody tr th {\n",
       "        vertical-align: top;\n",
       "    }\n",
       "\n",
       "    .dataframe thead th {\n",
       "        text-align: right;\n",
       "    }\n",
       "</style>\n",
       "<table border=\"1\" class=\"dataframe\">\n",
       "  <thead>\n",
       "    <tr style=\"text-align: right;\">\n",
       "      <th></th>\n",
       "      <th>nomes</th>\n",
       "      <th>precos</th>\n",
       "      <th>preco_sobre_lucro</th>\n",
       "      <th>volume</th>\n",
       "      <th>lucro_por_acao</th>\n",
       "      <th>precos_dolar</th>\n",
       "    </tr>\n",
       "    <tr>\n",
       "      <th>tickers</th>\n",
       "      <th></th>\n",
       "      <th></th>\n",
       "      <th></th>\n",
       "      <th></th>\n",
       "      <th></th>\n",
       "      <th></th>\n",
       "    </tr>\n",
       "  </thead>\n",
       "  <tbody>\n",
       "    <tr>\n",
       "      <th>WEGE3</th>\n",
       "      <td>Weg</td>\n",
       "      <td>20</td>\n",
       "      <td>25</td>\n",
       "      <td>5000</td>\n",
       "      <td>0.800000</td>\n",
       "      <td>3.809524</td>\n",
       "    </tr>\n",
       "    <tr>\n",
       "      <th>PETR3</th>\n",
       "      <td>Petrobras</td>\n",
       "      <td>30</td>\n",
       "      <td>6</td>\n",
       "      <td>1000</td>\n",
       "      <td>5.000000</td>\n",
       "      <td>5.714286</td>\n",
       "    </tr>\n",
       "    <tr>\n",
       "      <th>VALE3</th>\n",
       "      <td>Vale</td>\n",
       "      <td>40</td>\n",
       "      <td>12</td>\n",
       "      <td>4000</td>\n",
       "      <td>3.333333</td>\n",
       "      <td>7.619048</td>\n",
       "    </tr>\n",
       "    <tr>\n",
       "      <th>PETR4</th>\n",
       "      <td>Petrobras</td>\n",
       "      <td>12</td>\n",
       "      <td>7</td>\n",
       "      <td>7000</td>\n",
       "      <td>1.714286</td>\n",
       "      <td>2.285714</td>\n",
       "    </tr>\n",
       "    <tr>\n",
       "      <th>LREN3</th>\n",
       "      <td>Lojas Renner</td>\n",
       "      <td>35</td>\n",
       "      <td>25</td>\n",
       "      <td>1200</td>\n",
       "      <td>1.400000</td>\n",
       "      <td>6.666667</td>\n",
       "    </tr>\n",
       "  </tbody>\n",
       "</table>\n",
       "</div>"
      ],
      "text/plain": [
       "                nomes  precos  preco_sobre_lucro  volume  lucro_por_acao  \\\n",
       "tickers                                                                    \n",
       "WEGE3             Weg      20                 25    5000        0.800000   \n",
       "PETR3       Petrobras      30                  6    1000        5.000000   \n",
       "VALE3            Vale      40                 12    4000        3.333333   \n",
       "PETR4       Petrobras      12                  7    7000        1.714286   \n",
       "LREN3    Lojas Renner      35                 25    1200        1.400000   \n",
       "\n",
       "         precos_dolar  \n",
       "tickers                \n",
       "WEGE3        3.809524  \n",
       "PETR3        5.714286  \n",
       "VALE3        7.619048  \n",
       "PETR4        2.285714  \n",
       "LREN3        6.666667  "
      ]
     },
     "execution_count": 27,
     "metadata": {},
     "output_type": "execute_result"
    }
   ],
   "source": [
    "# Exercício 51: Assuma a cotação do dólar como 5.25 e crie \n",
    "# a coluna de cotações dolarizadas na tabela.\n",
    "\n",
    "df_info_empresas['precos_dolar'] = df_info_empresas['precos'] / 5.25\n",
    "\n",
    "df_info_empresas"
   ]
  },
  {
   "cell_type": "code",
   "execution_count": 28,
   "id": "640e6195",
   "metadata": {},
   "outputs": [
    {
     "data": {
      "text/plain": [
       "np.int64(18200)"
      ]
     },
     "execution_count": 28,
     "metadata": {},
     "output_type": "execute_result"
    }
   ],
   "source": [
    "# Exercício 52: Encontre qual volume total negociado por todas as ações. \n",
    "\n",
    "volume_total = df_info_empresas['volume'].sum()\n",
    "\n",
    "volume_total"
   ]
  },
  {
   "cell_type": "code",
   "execution_count": 30,
   "id": "999fb669",
   "metadata": {},
   "outputs": [
    {
     "name": "stdout",
     "output_type": "stream",
     "text": [
      "Maior: 5.0\n",
      "Menor: 0.8\n"
     ]
    }
   ],
   "source": [
    "# Exercício 53: Selecione as ações com maior e menor Lucro por ação do dataframe. \n",
    "# Dica: use métodos de seleção ensinados na aula passada! \n",
    "\n",
    "maior = df_info_empresas['lucro_por_acao'].max()\n",
    "menor = df_info_empresas['lucro_por_acao'].min()\n",
    "\n",
    "print(f'Maior: {maior}')\n",
    "print(f'Menor: {menor}')"
   ]
  },
  {
   "cell_type": "code",
   "execution_count": 22,
   "id": "696d7124",
   "metadata": {},
   "outputs": [],
   "source": [
    "#df_base\n",
    "\n",
    "dicionario = {\n",
    "       \"nomes\": [\"Weg\", \"Petrobras\", \"Vale\", \"Petrobras\", \"Lojas Renner\"],\n",
    "       \"tickers\": [\"WEGE3\", \"PETR3\", \"VALE3\", \"PETR4\", \"LREN3\"],  \n",
    "       \"cotacoes\": [20, 30, 40, 12, 35],\n",
    "       \"preco_sobre_lucro\": [25, 6, 12, 7, 25],  \n",
    "       \"volume\": [5000, 1000, 4000, 7000, 1200]\n",
    "}\n",
    "\n",
    "df_info_empresas = pd.DataFrame(dicionario)\n",
    "\n",
    "df_info_empresas = df_info_empresas.set_index(\"tickers\")\n",
    "\n",
    "df_info_empresas.columns = ['nomes', 'precos', 'preco_sobre_lucro', 'volume']"
   ]
  },
  {
   "cell_type": "code",
   "execution_count": 23,
   "id": "e8254ada",
   "metadata": {},
   "outputs": [
    {
     "data": {
      "text/html": [
       "<div>\n",
       "<style scoped>\n",
       "    .dataframe tbody tr th:only-of-type {\n",
       "        vertical-align: middle;\n",
       "    }\n",
       "\n",
       "    .dataframe tbody tr th {\n",
       "        vertical-align: top;\n",
       "    }\n",
       "\n",
       "    .dataframe thead th {\n",
       "        text-align: right;\n",
       "    }\n",
       "</style>\n",
       "<table border=\"1\" class=\"dataframe\">\n",
       "  <thead>\n",
       "    <tr style=\"text-align: right;\">\n",
       "      <th></th>\n",
       "      <th>nomes</th>\n",
       "      <th>precos</th>\n",
       "      <th>preco_sobre_lucro</th>\n",
       "      <th>volume</th>\n",
       "      <th>lpa</th>\n",
       "    </tr>\n",
       "    <tr>\n",
       "      <th>tickers</th>\n",
       "      <th></th>\n",
       "      <th></th>\n",
       "      <th></th>\n",
       "      <th></th>\n",
       "      <th></th>\n",
       "    </tr>\n",
       "  </thead>\n",
       "  <tbody>\n",
       "    <tr>\n",
       "      <th>WEGE3</th>\n",
       "      <td>Weg</td>\n",
       "      <td>20</td>\n",
       "      <td>25</td>\n",
       "      <td>5000</td>\n",
       "      <td>0.800000</td>\n",
       "    </tr>\n",
       "    <tr>\n",
       "      <th>PETR3</th>\n",
       "      <td>Petrobras</td>\n",
       "      <td>30</td>\n",
       "      <td>6</td>\n",
       "      <td>1000</td>\n",
       "      <td>5.000000</td>\n",
       "    </tr>\n",
       "    <tr>\n",
       "      <th>VALE3</th>\n",
       "      <td>Vale</td>\n",
       "      <td>40</td>\n",
       "      <td>12</td>\n",
       "      <td>4000</td>\n",
       "      <td>3.333333</td>\n",
       "    </tr>\n",
       "    <tr>\n",
       "      <th>PETR4</th>\n",
       "      <td>Petrobras</td>\n",
       "      <td>12</td>\n",
       "      <td>7</td>\n",
       "      <td>7000</td>\n",
       "      <td>1.714286</td>\n",
       "    </tr>\n",
       "    <tr>\n",
       "      <th>LREN3</th>\n",
       "      <td>Lojas Renner</td>\n",
       "      <td>35</td>\n",
       "      <td>25</td>\n",
       "      <td>1200</td>\n",
       "      <td>1.400000</td>\n",
       "    </tr>\n",
       "  </tbody>\n",
       "</table>\n",
       "</div>"
      ],
      "text/plain": [
       "                nomes  precos  preco_sobre_lucro  volume       lpa\n",
       "tickers                                                           \n",
       "WEGE3             Weg      20                 25    5000  0.800000\n",
       "PETR3       Petrobras      30                  6    1000  5.000000\n",
       "VALE3            Vale      40                 12    4000  3.333333\n",
       "PETR4       Petrobras      12                  7    7000  1.714286\n",
       "LREN3    Lojas Renner      35                 25    1200  1.400000"
      ]
     },
     "execution_count": 23,
     "metadata": {},
     "output_type": "execute_result"
    }
   ],
   "source": [
    "#gabarito 50\n",
    "\n",
    "df_info_empresas['lpa'] = df_info_empresas['precos'] / df_info_empresas['preco_sobre_lucro']\n",
    "\n",
    "df_info_empresas"
   ]
  },
  {
   "cell_type": "code",
   "execution_count": 24,
   "id": "51ec51bb",
   "metadata": {},
   "outputs": [
    {
     "data": {
      "text/html": [
       "<div>\n",
       "<style scoped>\n",
       "    .dataframe tbody tr th:only-of-type {\n",
       "        vertical-align: middle;\n",
       "    }\n",
       "\n",
       "    .dataframe tbody tr th {\n",
       "        vertical-align: top;\n",
       "    }\n",
       "\n",
       "    .dataframe thead th {\n",
       "        text-align: right;\n",
       "    }\n",
       "</style>\n",
       "<table border=\"1\" class=\"dataframe\">\n",
       "  <thead>\n",
       "    <tr style=\"text-align: right;\">\n",
       "      <th></th>\n",
       "      <th>nomes</th>\n",
       "      <th>precos</th>\n",
       "      <th>preco_sobre_lucro</th>\n",
       "      <th>volume</th>\n",
       "      <th>lpa</th>\n",
       "      <th>precos_dolar</th>\n",
       "    </tr>\n",
       "    <tr>\n",
       "      <th>tickers</th>\n",
       "      <th></th>\n",
       "      <th></th>\n",
       "      <th></th>\n",
       "      <th></th>\n",
       "      <th></th>\n",
       "      <th></th>\n",
       "    </tr>\n",
       "  </thead>\n",
       "  <tbody>\n",
       "    <tr>\n",
       "      <th>WEGE3</th>\n",
       "      <td>Weg</td>\n",
       "      <td>20</td>\n",
       "      <td>25</td>\n",
       "      <td>5000</td>\n",
       "      <td>0.800000</td>\n",
       "      <td>3.809524</td>\n",
       "    </tr>\n",
       "    <tr>\n",
       "      <th>PETR3</th>\n",
       "      <td>Petrobras</td>\n",
       "      <td>30</td>\n",
       "      <td>6</td>\n",
       "      <td>1000</td>\n",
       "      <td>5.000000</td>\n",
       "      <td>5.714286</td>\n",
       "    </tr>\n",
       "    <tr>\n",
       "      <th>VALE3</th>\n",
       "      <td>Vale</td>\n",
       "      <td>40</td>\n",
       "      <td>12</td>\n",
       "      <td>4000</td>\n",
       "      <td>3.333333</td>\n",
       "      <td>7.619048</td>\n",
       "    </tr>\n",
       "    <tr>\n",
       "      <th>PETR4</th>\n",
       "      <td>Petrobras</td>\n",
       "      <td>12</td>\n",
       "      <td>7</td>\n",
       "      <td>7000</td>\n",
       "      <td>1.714286</td>\n",
       "      <td>2.285714</td>\n",
       "    </tr>\n",
       "    <tr>\n",
       "      <th>LREN3</th>\n",
       "      <td>Lojas Renner</td>\n",
       "      <td>35</td>\n",
       "      <td>25</td>\n",
       "      <td>1200</td>\n",
       "      <td>1.400000</td>\n",
       "      <td>6.666667</td>\n",
       "    </tr>\n",
       "  </tbody>\n",
       "</table>\n",
       "</div>"
      ],
      "text/plain": [
       "                nomes  precos  preco_sobre_lucro  volume       lpa  \\\n",
       "tickers                                                              \n",
       "WEGE3             Weg      20                 25    5000  0.800000   \n",
       "PETR3       Petrobras      30                  6    1000  5.000000   \n",
       "VALE3            Vale      40                 12    4000  3.333333   \n",
       "PETR4       Petrobras      12                  7    7000  1.714286   \n",
       "LREN3    Lojas Renner      35                 25    1200  1.400000   \n",
       "\n",
       "         precos_dolar  \n",
       "tickers                \n",
       "WEGE3        3.809524  \n",
       "PETR3        5.714286  \n",
       "VALE3        7.619048  \n",
       "PETR4        2.285714  \n",
       "LREN3        6.666667  "
      ]
     },
     "execution_count": 24,
     "metadata": {},
     "output_type": "execute_result"
    }
   ],
   "source": [
    "#gabarito 51\n",
    "\n",
    "dolar = 5.25\n",
    "\n",
    "df_info_empresas['precos_dolar'] = df_info_empresas['precos'] / dolar\n",
    "\n",
    "df_info_empresas"
   ]
  },
  {
   "cell_type": "code",
   "execution_count": 25,
   "id": "8735ab35",
   "metadata": {},
   "outputs": [
    {
     "data": {
      "text/plain": [
       "18200"
      ]
     },
     "execution_count": 25,
     "metadata": {},
     "output_type": "execute_result"
    }
   ],
   "source": [
    "#gabarito 52\n",
    "\n",
    "volume_total = df_info_empresas['volume'].sum()\n",
    "volume_total"
   ]
  },
  {
   "cell_type": "code",
   "execution_count": 28,
   "id": "cd06719f",
   "metadata": {},
   "outputs": [
    {
     "name": "stdout",
     "output_type": "stream",
     "text": [
      "Petrobras\n",
      "Weg\n"
     ]
    }
   ],
   "source": [
    "#gabarito 53\n",
    "\n",
    "lpa_maximo = df_info_empresas['lpa'].max()\n",
    "lpa_minimo = df_info_empresas['lpa'].min()\n",
    "\n",
    "maiorlpa_empresa = df_info_empresas[df_info_empresas['lpa'] == lpa_maximo]\n",
    "maiorlpa_empresa = maiorlpa_empresa.iat[0, 0]\n",
    "\n",
    "menorlpa_empresa = df_info_empresas[df_info_empresas['lpa'] == lpa_minimo]\n",
    "menorlpa_empresa = menorlpa_empresa.iat[0, 0]\n",
    "\n",
    "print(maiorlpa_empresa)\n",
    "print(menorlpa_empresa)"
   ]
  },
  {
   "cell_type": "markdown",
   "id": "c368d07c",
   "metadata": {},
   "source": [
    "# Mundo 7\n",
    "\n",
    "Na próxima aula vamos aprender a usar duas ferramentas muito úteis no Pandas: Rankings e ordenação. Afinal, como ordenar uma tabela do maior pro menor PL, por exemplo?"
   ]
  },
  {
   "cell_type": "code",
   "execution_count": null,
   "id": "c3254fd5",
   "metadata": {},
   "outputs": [],
   "source": []
  }
 ],
 "metadata": {
  "kernelspec": {
   "display_name": ".venv",
   "language": "python",
   "name": "python3"
  },
  "language_info": {
   "codemirror_mode": {
    "name": "ipython",
    "version": 3
   },
   "file_extension": ".py",
   "mimetype": "text/x-python",
   "name": "python",
   "nbconvert_exporter": "python",
   "pygments_lexer": "ipython3",
   "version": "3.13.3"
  }
 },
 "nbformat": 4,
 "nbformat_minor": 5
}
