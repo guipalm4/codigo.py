{
 "cells": [
  {
   "cell_type": "markdown",
   "id": "6b6071ff",
   "metadata": {},
   "source": [
    "# Mundo 12"
   ]
  },
  {
   "cell_type": "code",
   "execution_count": null,
   "id": "40e722f8",
   "metadata": {},
   "outputs": [],
   "source": [
    "set_teste = {'weg', 'renner', 'c&a', 'SLC agricola'}\n",
    "set_numero = {1, 4, 5, 8}\n",
    "\n",
    "print(set_teste)"
   ]
  },
  {
   "cell_type": "code",
   "execution_count": null,
   "id": "db081958",
   "metadata": {},
   "outputs": [],
   "source": [
    "#remover duplicatas\n",
    "\n",
    "lista_duplicada = ['renner', 'renner', 'weg', 'weg']\n",
    "\n",
    "lista_unica = list(set(lista_duplicada)) #você pode converter listas em sets ou tuplas sem problemas\n",
    "\n",
    "print(lista_unica)"
   ]
  },
  {
   "cell_type": "code",
   "execution_count": null,
   "id": "f8e08d08",
   "metadata": {},
   "outputs": [],
   "source": [
    "#adicionando um ou mais elementos a sets\n",
    "\n",
    "set_numero.add(10)\n",
    "\n",
    "print(set_numero)\n",
    "\n",
    "set_numero.update([20, 25, 60])\n",
    "\n",
    "print(set_numero)"
   ]
  },
  {
   "cell_type": "code",
   "execution_count": null,
   "id": "6e9e5a23",
   "metadata": {},
   "outputs": [],
   "source": [
    "#removendo elementos\n",
    "\n",
    "set_numero.discard(1)\n",
    "\n",
    "print(set_numero)"
   ]
  },
  {
   "cell_type": "code",
   "execution_count": null,
   "id": "0f12714d",
   "metadata": {},
   "outputs": [],
   "source": [
    "#operações matemáticas de união, interseção, diferença \n",
    "\n",
    "\n",
    "meu_set = {1, 2, 3, 5, 8, 9}\n",
    "meu_set_2 = {1, 4, 5, 6, 8, 11, 12}\n"
   ]
  },
  {
   "cell_type": "code",
   "execution_count": 29,
   "id": "c9969ebd",
   "metadata": {},
   "outputs": [
    {
     "name": "stdout",
     "output_type": "stream",
     "text": [
      "{1, 2, 3, 4, 5, 6, 8, 9, 11, 12}\n",
      "{1, 2, 3, 4, 5, 6, 8, 9, 11, 12}\n"
     ]
    }
   ],
   "source": [
    "#União\n",
    "\n",
    "uniao = meu_set | meu_set_2\n",
    "\n",
    "print(uniao)\n",
    "print(meu_set.union(meu_set_2))\n"
   ]
  },
  {
   "cell_type": "code",
   "execution_count": 30,
   "id": "db9c7b5d",
   "metadata": {},
   "outputs": [
    {
     "name": "stdout",
     "output_type": "stream",
     "text": [
      "{8, 1, 5}\n",
      "{8, 1, 5}\n"
     ]
    }
   ],
   "source": [
    "#Interseção - Tem que estar nos dois ao mesmo tempo\n",
    "\n",
    "print(meu_set & meu_set_2)\n",
    "print(meu_set.intersection(meu_set_2))"
   ]
  },
  {
   "cell_type": "code",
   "execution_count": 31,
   "id": "a21f05ce",
   "metadata": {},
   "outputs": [
    {
     "name": "stdout",
     "output_type": "stream",
     "text": [
      "{9, 2, 3}\n",
      "{9, 2, 3}\n"
     ]
    }
   ],
   "source": [
    "#Diferença - só pode estar presente no set 1\n",
    "\n",
    "print(meu_set - meu_set_2)\n",
    "print(meu_set.difference(meu_set_2))"
   ]
  },
  {
   "cell_type": "markdown",
   "id": "d6769546",
   "metadata": {},
   "source": [
    "# Desafios\n",
    "\n",
    "* Exercício 13: Crie um programa que receba o nome do usuário, dê boas vindas e colete as informações de 2 carteiras de investimentos com 3 nomes de empresas cada. Devolva pro usuário a interceção entre as carteiras de investimento, a difereça e a união entre elas.\n"
   ]
  },
  {
   "cell_type": "code",
   "execution_count": 3,
   "id": "3b5964da",
   "metadata": {
    "scrolled": true
   },
   "outputs": [
    {
     "name": "stdout",
     "output_type": "stream",
     "text": [
      "Bem-vindo gui!\n",
      "A diferença entre a carteira 1 e 2 são as ações {'klabin', 'renner'}\n",
      "A intersecao entre a carteira 1 e 2 são as ações {'petrobras'}\n",
      "A uniao entre a carteira 1 e 2 são as ações {'klabin', 'fcamara', 'petrobras', 'weg', 'renner'}\n"
     ]
    }
   ],
   "source": [
    "usuario = input('Qual o seu nome?')\n",
    "\n",
    "print(f'Bem-vindo {usuario}!')\n",
    "\n",
    "empresas_carteira1 = set()\n",
    "\n",
    "empresas_carteira1.add(str(input('Digite o nome de uma empresa:')))\n",
    "empresas_carteira1.add(str(input('Digite o nome de uma empresa:')))\n",
    "empresas_carteira1.add(str(input('Digite o nome de uma empresa:')))\n",
    "\n",
    "empresas_carteira2 = set()\n",
    "\n",
    "empresas_carteira2.add(str(input('Digite o nome de uma empresa:')))\n",
    "empresas_carteira2.add(str(input('Digite o nome de uma empresa:')))\n",
    "empresas_carteira2.add(str(input('Digite o nome de uma empresa:')))\n",
    "\n",
    "dif = empresas_carteira1 - empresas_carteira2\n",
    "intersecao = empresas_carteira1 & empresas_carteira2\n",
    "uniao = empresas_carteira1 | empresas_carteira2\n",
    "\n",
    "print(f'A diferença entre a carteira 1 e 2 são as ações {dif}')\n",
    "print(f'A intersecao entre a carteira 1 e 2 são as ações {intersecao}')\n",
    "print(f'A uniao entre a carteira 1 e 2 são as ações {uniao}')\n"
   ]
  },
  {
   "cell_type": "markdown",
   "id": "aecd6815",
   "metadata": {},
   "source": [
    "# Mundo 13\n",
    "\n",
    "Agora que nós dominamos os sets, podemos avançar na nossa galáxia rumo ao mundo 13.\n",
    "No mundo 13 nós vamos abordar os dicionários, que é a coleção mais relevante de todas.\n",
    "Nele você pode criar catálagos de filmes, atribuir características a empresas,\n",
    "criar dicionário de itens, e muito mais.\n",
    "Existe o seu conhecimento em python antes e depois de dominar os dicionários então se você quer aprender sobre eles, te espero na próxima aula."
   ]
  },
  {
   "cell_type": "code",
   "execution_count": null,
   "id": "771719d4",
   "metadata": {},
   "outputs": [],
   "source": []
  },
  {
   "cell_type": "code",
   "execution_count": null,
   "id": "fbd1f78f",
   "metadata": {},
   "outputs": [],
   "source": []
  },
  {
   "cell_type": "code",
   "execution_count": null,
   "id": "12e12c89",
   "metadata": {},
   "outputs": [],
   "source": []
  },
  {
   "cell_type": "code",
   "execution_count": null,
   "id": "709f9796",
   "metadata": {},
   "outputs": [],
   "source": []
  }
 ],
 "metadata": {
  "kernelspec": {
   "display_name": ".venv",
   "language": "python",
   "name": "python3"
  },
  "language_info": {
   "codemirror_mode": {
    "name": "ipython",
    "version": 3
   },
   "file_extension": ".py",
   "mimetype": "text/x-python",
   "name": "python",
   "nbconvert_exporter": "python",
   "pygments_lexer": "ipython3",
   "version": "3.13.3"
  }
 },
 "nbformat": 4,
 "nbformat_minor": 5
}
